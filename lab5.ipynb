{
 "cells": [
  {
   "cell_type": "markdown",
   "id": "c52796a8-4517-4e37-b4fe-e08ad5d9921f",
   "metadata": {},
   "source": [
    "# Визуализация массивов numpy"
   ]
  },
  {
   "cell_type": "markdown",
   "id": "5232eec2-a2dc-438a-b143-df07433c2611",
   "metadata": {},
   "source": [
    "## Изображения как массивы\n",
    "В компьютерной графике используется так называемое \"растровое\" представление изображения, которое представляет собой не что иное как матрицу \"пикселей\", каждый элемент которой является числовым кодом цвета. Массив numpy, имеющий подходящие размеры и подходящий тип данных, может быть визуализирован непосредственно как растровое изображение. Посмотрим простой пример."
   ]
  },
  {
   "cell_type": "code",
   "execution_count": 2,
   "id": "43135c95-869c-4263-a42e-ba9fbe38ba98",
   "metadata": {},
   "outputs": [
    {
     "data": {
      "text/plain": [
       "array([[  0,   1,   2, ..., 253, 254, 255],\n",
       "       [  0,   1,   2, ..., 253, 254, 255],\n",
       "       [  0,   1,   2, ..., 253, 254, 255],\n",
       "       ...,\n",
       "       [  0,   1,   2, ..., 253, 254, 255],\n",
       "       [  0,   1,   2, ..., 253, 254, 255],\n",
       "       [  0,   1,   2, ..., 253, 254, 255]], dtype=uint8)"
      ]
     },
     "execution_count": 2,
     "metadata": {},
     "output_type": "execute_result"
    }
   ],
   "source": [
    "import numpy as np\n",
    "gradient = np.tile(np.arange(0, 256, dtype='uint8'), (255, 1))\n",
    "gradient"
   ]
  },
  {
   "cell_type": "markdown",
   "id": "cc9f09e9-2824-441c-babd-d77c781afe36",
   "metadata": {},
   "source": [
    "Стоит обратить внимание на тип данных - uint8. Это целое беззнаковое 8-битное число. Проще говоря, просто 1 байт. Именно такой тип используется для кодирования цвета (хотя библиотека matplotlib позволяет визуализировать массивы с любыми типами данных, но для некоторых других целей стоит использовать тип uint8). О функции `np.tile` почитайте подробнее в документации."
   ]
  },
  {
   "cell_type": "code",
   "execution_count": 3,
   "id": "0ce03ed6-2d54-41bb-add3-aa9c2f845fdf",
   "metadata": {},
   "outputs": [
    {
     "data": {
      "image/png": "[encoded data removed]",
      "text/plain": [
       "<Figure size 432x288 with 1 Axes>"
      ]
     },
     "metadata": {
      "needs_background": "light"
     },
     "output_type": "display_data"
    }
   ],
   "source": [
    "import matplotlib.pyplot as plt\n",
    "plt.imshow(gradient, cmap='gray', vmin=0, vmax=255)\n",
    "plt.show()"
   ]
  },
  {
   "cell_type": "markdown",
   "id": "d6892a15-b9fc-4a9c-8192-156724e9ebf7",
   "metadata": {},
   "source": [
    "Визуализация массива в matplotlib выполняется с помощью функции imshow. Аргументы `cmap='gray', vmin=0, vmax=255` говорят о том, что должны использоваться оттенки серого со значениями от 0 (черный) до 255 (белый)."
   ]
  },
  {
   "cell_type": "markdown",
   "id": "0129b12a-0f6a-430e-b787-bebe69cba7a2",
   "metadata": {},
   "source": [
    "**Упраженение №1**\n",
    "\n",
    "Попробуйте поэкспериментировать с этими параметрами. Посмотреть встроенные цветовые схемы matplotlib можно здесь: https://matplotlib.org/stable/tutorials/colors/colormaps.html"
   ]
  },
  {
   "cell_type": "code",
   "execution_count": null,
   "id": "97c89fe0-ddd6-4e28-9730-71f985218aa4",
   "metadata": {},
   "outputs": [],
   "source": []
  },
  {
   "cell_type": "markdown",
   "id": "bd558d4e-ba4d-47cc-9c41-4ed4914cf37a",
   "metadata": {},
   "source": [
    "## Загрузка растрового изображения в массив\n",
    "Воспользовавшись библиотекой pillow можно загрузить в массив растровое изображение."
   ]
  },
  {
   "cell_type": "code",
   "execution_count": null,
   "id": "fb089d32-38a7-4f11-87dd-5fea051e3d79",
   "metadata": {},
   "outputs": [],
   "source": [
    "from PIL import Image\n",
    "img = Image.open('flowers.jpg')\n",
    "img_arr = np.array(img)"
   ]
  },
  {
   "cell_type": "code",
   "execution_count": null,
   "id": "5aca1b5f-bdf3-4790-9695-c57d4fb267a3",
   "metadata": {},
   "outputs": [],
   "source": [
    "img_arr.shape"
   ]
  },
  {
   "cell_type": "markdown",
   "id": "7b8f9060-5785-43b8-947a-3cb70762bcfc",
   "metadata": {},
   "source": [
    "Мы получили 3-мерный массив. Первые две оси - это высота и ширина изображения, третья ось содержит три компонента цвета - красный, синий и зеленый. Отобразить изображение можно тем же способом."
   ]
  },
  {
   "cell_type": "code",
   "execution_count": null,
   "id": "2f42cddd-bce3-4446-81fb-f04deb7a8c1d",
   "metadata": {},
   "outputs": [],
   "source": [
    "plt.imshow(img_arr)\n",
    "plt.show()"
   ]
  },
  {
   "cell_type": "markdown",
   "id": "b76a5785-3f7b-483f-aff6-f4e72b88e677",
   "metadata": {},
   "source": [
    "Поскольку в данном случае мы имеем цветное изображение, параметр `cmap` указывать не нужно."
   ]
  },
  {
   "cell_type": "markdown",
   "id": "ee614607-c113-43b1-8108-70debb4a0e21",
   "metadata": {},
   "source": [
    "## Обработка изображений"
   ]
  },
  {
   "cell_type": "markdown",
   "id": "eef322c0-0542-4d07-a21c-a7e48a7583a2",
   "metadata": {},
   "source": [
    "Попробуем применить к изображению (или, что то же самое, к массиву) некоторые из известных нам операций. Например, усреднение по третьей оси (т.е. по оси цвета) дает нам черно-белое изображение."
   ]
  },
  {
   "cell_type": "code",
   "execution_count": null,
   "id": "881d9824-6fad-41af-8dbf-10e0d440cc37",
   "metadata": {},
   "outputs": [],
   "source": [
    "plt.imshow(img_arr.mean(axis=2), cmap='gray')\n",
    "plt.show()"
   ]
  },
  {
   "cell_type": "markdown",
   "id": "776044e5-0086-4322-b4cf-5a08a91353d3",
   "metadata": {},
   "source": [
    "Можно визуализировать отдельно красный, зеленый и синий компоненты изображения."
   ]
  },
  {
   "cell_type": "code",
   "execution_count": null,
   "id": "6279293e-8cac-4494-9bad-6870f4648ac6",
   "metadata": {},
   "outputs": [],
   "source": [
    "ax1 = plt.subplot(131)\n",
    "ax1.imshow(img_arr[:, :, 0], cmap='Reds_r')\n",
    "ax2 = plt.subplot(132)\n",
    "ax2.imshow(img_arr[:, :, 1], cmap='Greens_r')\n",
    "ax3 = plt.subplot(133)\n",
    "ax3.imshow(img_arr[:, :, 2], cmap='Blues_r')\n",
    "plt.show()"
   ]
  },
  {
   "cell_type": "markdown",
   "id": "5aba804d-9144-4e33-9f22-0b0d2d994bf7",
   "metadata": {},
   "source": [
    "С помощью срезов и транспонирования можно переворачивать изображение (при транспонировании нужно правильно указать оси, чтобы цвет остался без изменений)."
   ]
  },
  {
   "cell_type": "code",
   "execution_count": null,
   "id": "f6d50b5a-2895-4250-b37e-5e53d0675f61",
   "metadata": {},
   "outputs": [],
   "source": [
    "ax1 = plt.subplot(221)\n",
    "ax1.imshow(img_arr[::-1])\n",
    "ax2 = plt.subplot(222)\n",
    "ax2.imshow(img_arr[:, ::-1])\n",
    "ax3 = plt.subplot(223)\n",
    "ax3.imshow(img_arr[::-1, ::-1])\n",
    "ax3 = plt.subplot(224)\n",
    "ax3.imshow(np.transpose(img_arr, (1, 0, 2)))\n",
    "plt.show()"
   ]
  },
  {
   "cell_type": "markdown",
   "id": "2e4e01dd-c25e-435f-94c7-2a76ba2c3f42",
   "metadata": {},
   "source": [
    "С помощью некоторых математических функций можно производить обработку изображения. Например, увеличить красный компонент (преобразования типов необходимы, чтобы не выйти за пределы допустимых значений байта и не получить некрасивые искажения)."
   ]
  },
  {
   "cell_type": "code",
   "execution_count": null,
   "id": "84634f13-fc78-4065-a44f-5f151bb91d53",
   "metadata": {},
   "outputs": [],
   "source": [
    "modified = img_arr.astype('float')\n",
    "modified[:, :, 0] *= 1.5\n",
    "modified[modified > 255] = 255\n",
    "modified = modified.astype('uint8')\n",
    "plt.imshow(modified)\n",
    "plt.show()"
   ]
  },
  {
   "cell_type": "markdown",
   "id": "2918b23d-9284-46c8-9266-ea174bd104bd",
   "metadata": {},
   "source": [
    "Здесь стоит немного пояснить третью строчку. При применении к массивам логических операций мы получаем массив такого же размера, как исходный, но содержащий булевы значения."
   ]
  },
  {
   "cell_type": "code",
   "execution_count": null,
   "id": "3724f3f8-3565-496e-b032-01e536e8cac1",
   "metadata": {},
   "outputs": [],
   "source": [
    "a = np.array([1, 2, 3, 4])\n",
    "a > 2"
   ]
  },
  {
   "cell_type": "markdown",
   "id": "491fb9c8-bcfd-4031-98fc-803c4debbfcd",
   "metadata": {},
   "source": [
    "С другой стороны в качестве \"индекса\" для среза мы можем использовать массив булевых значений, который означает, какие элементы из исходного массива войдут в срез, а какие - нет."
   ]
  },
  {
   "cell_type": "code",
   "execution_count": null,
   "id": "fc2ee50a-fd86-4fd3-9fc3-49652205be70",
   "metadata": {},
   "outputs": [],
   "source": [
    "a[[True, False, True, False]]"
   ]
  },
  {
   "cell_type": "markdown",
   "id": "0c52f5e1-a93c-47bc-b66f-b94f9540e159",
   "metadata": {},
   "source": [
    "Соединяя эти два факта вместе мы получаем очень удобный способ фильтрации массива: в качестве индекса внутри квадратных скобок пишем логическое выражение, которое будет преобразовано в массив булевых значений, которые в свою очередь будут использваны в качестве индекса. Например, выберем из массива только четные элементы:"
   ]
  },
  {
   "cell_type": "code",
   "execution_count": null,
   "id": "d1853672-7bf1-4a97-a22c-81a7c8bc0d6e",
   "metadata": {},
   "outputs": [],
   "source": [
    "a[a % 2 == 0]"
   ]
  },
  {
   "cell_type": "markdown",
   "id": "81c0594c-e81c-40f2-a25b-245217f31d46",
   "metadata": {},
   "source": [
    "Вернемся к нашему примеру. Строка `modified[modified > 255] = 255` означает, что те элементы массива, значение которых оказалось больше, чем 255 (максимальное значение в 1 байте), мы ограничиваем значением 255, чтобы избежать переполнения."
   ]
  },
  {
   "cell_type": "markdown",
   "id": "e1ddef6e-0152-4ed2-bc87-db9f0e7c7247",
   "metadata": {},
   "source": [
    "**Упражнение №2**\n",
    "\n",
    "Поэкспериментируйте с этим примером. Попробуйте другие коэфициенты, другие компоненты цвета и другие математические операции."
   ]
  },
  {
   "cell_type": "code",
   "execution_count": null,
   "id": "dcbd7c50-8fd6-405d-be87-e6ecd239d45b",
   "metadata": {},
   "outputs": [],
   "source": []
  },
  {
   "cell_type": "markdown",
   "id": "178dc66a-337d-4a7d-a06e-280f95fded16",
   "metadata": {},
   "source": [
    "## Размытие изображения (задача)\n",
    "Перед вами стоит задача написать функцию размытия изображений. Размытие изображения - частный случай операции \"свертки\" (или \"конволюции\"), которая часто применяется и в других задачах. Не вникая глубоко в математические детали, можно сказать, что суть этой операции в том, что элементы исходного массива суммируются со своими соседями с определенным весом. Для большей ясности начнем с обычного 1-мерного массива. Пусть у нас есть массив (для простоты пусть в нем будет большая часть нулей и только один ненулевой элемент в середине), и мы хотим просто усреднить каждое значение с его ближайшими соседями. Тогда массив весов будет состоять из трех единиц (чтобы исходная сумма осталась неизменной, поделим их на 3). Воспользуемся функцией `convolve1d` из библиотеки `scipy`."
   ]
  },
  {
   "cell_type": "code",
   "execution_count": null,
   "id": "e079fddc-6f97-4b34-a3f2-6421af0bc815",
   "metadata": {},
   "outputs": [],
   "source": [
    "import scipy"
   ]
  },
  {
   "cell_type": "code",
   "execution_count": null,
   "id": "9937a3d8-82d9-43b0-abff-ac7d19b54b6e",
   "metadata": {},
   "outputs": [],
   "source": [
    "a = np.array([0, 0, 10, 0, 0], dtype=float)\n",
    "w = np.array([1/3, 1/3, 1/3])\n",
    "scipy.ndimage.convolve1d(a, w)"
   ]
  },
  {
   "cell_type": "markdown",
   "id": "1de72ea1-3539-45db-9bf0-7b48607d21b7",
   "metadata": {},
   "source": [
    "Попробуем взять другой массив весов. Например, пусть исходное значение входит в среднее с несколько большим весом, чем его соседи."
   ]
  },
  {
   "cell_type": "code",
   "execution_count": null,
   "id": "0c704836-5cd3-49cb-8a41-26f0c5b2df1e",
   "metadata": {},
   "outputs": [],
   "source": [
    "a = np.array([0, 0, 10, 0, 0], dtype=float)\n",
    "w = np.array([1/4, 1/2, 1/4])\n",
    "scipy.ndimage.convolve1d(a, w)"
   ]
  },
  {
   "cell_type": "markdown",
   "id": "aee912ce-fc59-4d89-959d-1bb723999e54",
   "metadata": {},
   "source": [
    "Можно сделать свертку и большего размера."
   ]
  },
  {
   "cell_type": "code",
   "execution_count": null,
   "id": "678c595d-6b7d-4db7-83c6-3c555dc24b13",
   "metadata": {},
   "outputs": [],
   "source": [
    "a = np.array([0, 0, 0, 10, 0, 0, 0], dtype=float)\n",
    "w = np.array([1/12, 1/6, 1/2, 1/6, 1/12])\n",
    "scipy.ndimage.convolve1d(a, w)"
   ]
  },
  {
   "cell_type": "code",
   "execution_count": null,
   "id": "1706b00e-24fc-4c61-88c8-e47382739078",
   "metadata": {},
   "outputs": [],
   "source": [
    "Аналогично делаются и двумерные свёртки."
   ]
  },
  {
   "cell_type": "code",
   "execution_count": null,
   "id": "23b1f0c6-c0ed-4885-b01c-2e1a56caa411",
   "metadata": {},
   "outputs": [],
   "source": [
    "a = np.zeros((5, 5))\n",
    "a[2, 2] = 10\n",
    "a"
   ]
  },
  {
   "cell_type": "code",
   "execution_count": null,
   "id": "bca94019-cb7e-4cf3-8123-a04823374194",
   "metadata": {},
   "outputs": [],
   "source": [
    "w = np.array([[1, 2, 1], [2, 4, 2], [1, 2, 1]], dtype=float)\n",
    "w /= w.sum()\n",
    "scipy.ndimage.convolve(a, w)"
   ]
  },
  {
   "cell_type": "markdown",
   "id": "a48029ad-32c2-4fa1-a360-efc3182f1b5d",
   "metadata": {},
   "source": [
    "**Упражнение №3**\n",
    "\n",
    "Напишите функцию размытия изображения с заданной весовой матрицей. При этом не забудьте учесть следующие детали:\n",
    "1. Функция должна корректно работать как с цветными, так и с черно-белыми изображениями.\n",
    "2. Весовая матрица, возможно, нуждается в нормировке.\n",
    "3. В итоговом изображении не должно быть переполнения однобайтного типа."
   ]
  },
  {
   "cell_type": "code",
   "execution_count": null,
   "id": "ca4c4f64-d562-4bee-adbf-11eccdad39b5",
   "metadata": {},
   "outputs": [],
   "source": [
    "def blur(img_array, weights_array):\n",
    "    \"\"\"\n",
    "    Вычисляет свертку изображения и нормированной весовой матрицы.\n",
    "    \"\"\"\n",
    "    pass"
   ]
  },
  {
   "cell_type": "markdown",
   "id": "05df3277-d838-418b-a412-1fc0a5e64161",
   "metadata": {},
   "source": [
    "**Упражнение №4**\n",
    "\n",
    "Напишите функцию гауссова размытия. Функция принимает на вход дисперсию размытия (сигму), генерирует весовую матрицу и вызывает функцию из предыдущего задания.\n",
    "\n",
    "Функция гауссова распределения (нормировочный множитель можно опустить, поскольку матрица в любом случае будет нормироваться потом):\n",
    "\n",
    "$$\n",
    "f(x) = e^{-\\frac{1}{2}(\\frac{x}{\\sigma})^2}\n",
    "$$\n",
    "где `x` - расстояние до центра.\n",
    "\n",
    "Подумайте, какого размера должна быть весовая матрица."
   ]
  },
  {
   "cell_type": "code",
   "execution_count": null,
   "id": "3c1ddc27-dfcf-4bd9-9587-d202a53158a9",
   "metadata": {},
   "outputs": [],
   "source": [
    "def gaussian_blur(img_array, sigma):\n",
    "    \"\"\"\n",
    "    Выполняет гауссово размытие с заданной дисперсией\n",
    "    \"\"\"\n",
    "    pass"
   ]
  },
  {
   "cell_type": "markdown",
   "id": "b00872cc-7bfa-4068-8d5b-935572099dfa",
   "metadata": {},
   "source": [
    "## Генерирование изображений"
   ]
  },
  {
   "cell_type": "markdown",
   "id": "eb9adc92-8bfb-4332-871a-c7a3885da6ea",
   "metadata": {},
   "source": [
    "В первом примере мы уже видели, как сгенерировать простой градиент. Давайте попробуем что-нибудь посложнее."
   ]
  },
  {
   "cell_type": "code",
   "execution_count": null,
   "id": "45cb1164-df92-4f8a-a389-a39a5ac6d7bc",
   "metadata": {},
   "outputs": [],
   "source": [
    "x = np.linspace(-20, 20, 1000)\n",
    "y = x[::-1].reshape((-1, 1))\n",
    "dist = np.sqrt(x ** 2 + y ** 2)\n",
    "img = np.sin(dist) * np.exp(-dist * 0.2)\n",
    "plt.imshow(img)\n",
    "plt.show()"
   ]
  },
  {
   "cell_type": "markdown",
   "id": "7df8381c-9d05-407d-a91a-020c0e70f748",
   "metadata": {},
   "source": [
    "Здесь в переменной `x` мы создали линейную последовательность точек по оси x, в переменной `y` - эту же последовательность, но расположенную вертикально (реверс сделан, чтобы ось y была направлена как обычно снизу вверх - строки в массивах нумеруются сверху вниз). Сложение двух массивов, один из которых представляет собой строку, а другой - столбец, дает матрицу попарных сумм их элементов."
   ]
  },
  {
   "cell_type": "code",
   "execution_count": null,
   "id": "f2ae2377-e2e7-4e3b-8843-264f984357dc",
   "metadata": {},
   "outputs": [],
   "source": [
    "a = np.array([1, 2, 3])\n",
    "b = np.array([[10],\n",
    "              [20],\n",
    "              [30]])\n",
    "a + b"
   ]
  },
  {
   "cell_type": "markdown",
   "id": "b55cc754-1bfa-4072-8a8d-9cbca3adda43",
   "metadata": {},
   "source": [
    "С помощью этого приема легко одной операцией посчитать функцию двух переменных на некотором участке пространства. В данном случае мы посчитали затухающий синус."
   ]
  },
  {
   "cell_type": "markdown",
   "id": "92fa3a03-7797-4eda-bcdb-357e05649899",
   "metadata": {},
   "source": [
    "**Упражнение №5**\n",
    "Изобразите функцию на диапазоне \\[-3, 3]\n",
    "$$\n",
    "f(x, y) = x^2 + (y + 1 - \\sqrt{|x|})^2 - 1\n",
    "$$"
   ]
  },
  {
   "cell_type": "code",
   "execution_count": null,
   "id": "f7d4103c-c8eb-44ac-81c8-6d72bbce8518",
   "metadata": {},
   "outputs": [],
   "source": []
  },
  {
   "cell_type": "markdown",
   "id": "dc16cd11-aef7-4895-a387-351b546e9225",
   "metadata": {},
   "source": [
    "Напоследок сделаем что-нибудь по-настоящему красивое. Например, множество Мандельброта. Напомним, что это множество точек `c` на комплексной плоскости такое, что последовательность\n",
    "$$\n",
    "z_{n} = z_{n-1}^2 + c\n",
    "$$\n",
    "задает ограниченную последовательность.\n",
    "\n",
    "На практике можно вычислить несколько итераций (скажем, 100), и если значение всё ещё меньше 2, можно считать, что в этой точке последовательность ограничена.\n",
    "\n",
    "Для начала создадим комплексную плоскость."
   ]
  },
  {
   "cell_type": "code",
   "execution_count": null,
   "id": "71a34c0a-af43-4ed6-a814-a332dbb78475",
   "metadata": {},
   "outputs": [],
   "source": [
    "re = np.linspace(-2, 2, 200)\n",
    "im = np.linspace(-2, 2, 200).reshape((-1, 1))\n",
    "c = re + im * 1j"
   ]
  },
  {
   "cell_type": "markdown",
   "id": "5c79d69e-d690-48f4-8a3d-c704022257f8",
   "metadata": {},
   "source": [
    "Теперь посчитаем последотельность. Можете не обращать внимания на предупреждение о переполнении - в некоторых точках последовательность уже ушла в бесконечность."
   ]
  },
  {
   "cell_type": "code",
   "execution_count": null,
   "id": "ab7ece66-1a34-496f-8e3d-db92095caacf",
   "metadata": {},
   "outputs": [],
   "source": [
    "z = np.zeros((200, 200))\n",
    "for i in range(100):\n",
    "    z = z ** 2 + c"
   ]
  },
  {
   "cell_type": "markdown",
   "id": "513a4d19-d674-428e-8d13-7318beac2a4c",
   "metadata": {},
   "source": [
    "Наконец, изобразим получившееся множество."
   ]
  },
  {
   "cell_type": "code",
   "execution_count": null,
   "id": "a494307a-98c4-4336-8709-6514b3a660b3",
   "metadata": {},
   "outputs": [],
   "source": [
    "img = np.zeros((200, 200))\n",
    "img[np.abs(z) < 2] = 255\n",
    "plt.imshow(img)\n",
    "plt.show()"
   ]
  },
  {
   "cell_type": "markdown",
   "id": "de24ad78-cd57-4778-b439-dae6c0cc2c1d",
   "metadata": {},
   "source": [
    "**Упражнение №6**\n",
    "Добавьте в это изображение оттенки в соответствии с тем, насколько быстро последовательность расходится в данной точке. Напишите функцию, в которой можно задать диапазон и количество точек (\"качество\" изображения)."
   ]
  },
  {
   "cell_type": "code",
   "execution_count": null,
   "id": "d1d305e9-1522-48ad-8d00-485764718a4c",
   "metadata": {},
   "outputs": [],
   "source": [
    "def mandelbrot(x_low, x_high, y_low, y_high, points_x, points_y):\n",
    "    \"\"\"\n",
    "    Создает изображение множества Мандельброта в диапазоне по x от x_low до x_high,\n",
    "    по y - от y_low до y_high с разрешением points_x*points_y\n",
    "    \"\"\"\n",
    "    pass"
   ]
  },
  {
   "cell_type": "markdown",
   "id": "eda456c7-ec38-4746-b818-b01f4c73df0b",
   "metadata": {},
   "source": [
    "**Упражнение №7 (дополнительное)**\n",
    "\n",
    "Изобразите [множество Жюлиа](https://ru.wikipedia.org/wiki/%D0%9C%D0%BD%D0%BE%D0%B6%D0%B5%D1%81%D1%82%D0%B2%D0%BE_%D0%96%D1%8E%D0%BB%D0%B8%D0%B0)."
   ]
  },
  {
   "cell_type": "code",
   "execution_count": null,
   "id": "fa1337bb-e653-420b-8c49-2dc64f157a46",
   "metadata": {},
   "outputs": [],
   "source": []
  }
 ],
 "metadata": {
  "kernelspec": {
   "display_name": "Python 3.9.12 ('base')",
   "language": "python",
   "name": "python3"
  },
  "language_info": {
   "codemirror_mode": {
    "name": "ipython",
    "version": 3
   },
   "file_extension": ".py",
   "mimetype": "text/x-python",
   "name": "python",
   "nbconvert_exporter": "python",
   "pygments_lexer": "ipython3",
   "version": "3.9.12"
  },
  "vscode": {
   "interpreter": {
    "hash": "ad2bdc8ecc057115af97d19610ffacc2b4e99fae6737bb82f5d7fb13d2f2c186"
   }
  }
 },
 "nbformat": 4,
 "nbformat_minor": 5
}
