{
 "cells": [
  {
   "cell_type": "code",
   "execution_count": 4,
   "metadata": {},
   "outputs": [],
   "source": [
    "import pygame\n",
    "import pygame\n",
    "from pygame.draw import *\n",
    "# После импорта библиотеки, необходимо её инициализировать:\n",
    "pygame.init()\n",
    "clock = pygame.time.Clock()"
   ]
  },
  {
   "cell_type": "code",
   "execution_count": null,
   "metadata": {},
   "outputs": [],
   "source": [
    "# И создать окно:\n",
    "screen = pygame.display.set_mode((300, 200))\n",
    "\n",
    "# здесь будут рисоваться фигуры\n",
    "# ...\n",
    "\n",
    "# после чего, чтобы они отобразились на экране, экран нужно обновить:\n",
    "pygame.display.update()\n",
    "# Эту же команду нужно будет повторять, если на экране происходят изменения.\n",
    "\n",
    "# Наконец, нужно создать основной цикл, в котором будут отслеживаться\n",
    "# происходящие события.\n",
    "# Пока единственное событие, которое нас интересует - выход из программы.\n",
    "while True:\n",
    "    for event in pygame.event.get():\n",
    "        if event.type == pygame.QUIT:\n",
    "            pygame.quit()"
   ]
  }
 ],
 "metadata": {
  "kernelspec": {
   "display_name": "Python 3.9.12 ('base')",
   "language": "python",
   "name": "python3"
  },
  "language_info": {
   "codemirror_mode": {
    "name": "ipython",
    "version": 3
   },
   "file_extension": ".py",
   "mimetype": "text/x-python",
   "name": "python",
   "nbconvert_exporter": "python",
   "pygments_lexer": "ipython3",
   "version": "3.9.12"
  },
  "orig_nbformat": 4,
  "vscode": {
   "interpreter": {
    "hash": "ad2bdc8ecc057115af97d19610ffacc2b4e99fae6737bb82f5d7fb13d2f2c186"
   }
  }
 },
 "nbformat": 4,
 "nbformat_minor": 2
}
