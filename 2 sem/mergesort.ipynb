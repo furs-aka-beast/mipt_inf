{
 "cells": [
  {
   "cell_type": "code",
   "execution_count": 18,
   "metadata": {},
   "outputs": [],
   "source": [
    "import pandas as pd\n",
    "import numpy as np"
   ]
  },
  {
   "cell_type": "code",
   "execution_count": 27,
   "metadata": {},
   "outputs": [
    {
     "data": {
      "text/html": [
       "<div>\n",
       "<style scoped>\n",
       "    .dataframe tbody tr th:only-of-type {\n",
       "        vertical-align: middle;\n",
       "    }\n",
       "\n",
       "    .dataframe tbody tr th {\n",
       "        vertical-align: top;\n",
       "    }\n",
       "\n",
       "    .dataframe thead th {\n",
       "        text-align: right;\n",
       "    }\n",
       "</style>\n",
       "<table border=\"1\" class=\"dataframe\">\n",
       "  <thead>\n",
       "    <tr style=\"text-align: right;\">\n",
       "      <th></th>\n",
       "      <th>number of elements</th>\n",
       "      <th>time1</th>\n",
       "      <th>time2</th>\n",
       "      <th>time3</th>\n",
       "      <th>time4</th>\n",
       "    </tr>\n",
       "  </thead>\n",
       "  <tbody>\n",
       "    <tr>\n",
       "      <th>0</th>\n",
       "      <td>500</td>\n",
       "      <td>0.000396</td>\n",
       "      <td>0.000363</td>\n",
       "      <td>0.000360</td>\n",
       "      <td>0.000454</td>\n",
       "    </tr>\n",
       "    <tr>\n",
       "      <th>1</th>\n",
       "      <td>1000</td>\n",
       "      <td>0.000958</td>\n",
       "      <td>0.000926</td>\n",
       "      <td>0.000843</td>\n",
       "      <td>0.000683</td>\n",
       "    </tr>\n",
       "    <tr>\n",
       "      <th>2</th>\n",
       "      <td>1500</td>\n",
       "      <td>0.000992</td>\n",
       "      <td>0.000939</td>\n",
       "      <td>0.000933</td>\n",
       "      <td>0.000951</td>\n",
       "    </tr>\n",
       "    <tr>\n",
       "      <th>3</th>\n",
       "      <td>2000</td>\n",
       "      <td>0.001308</td>\n",
       "      <td>0.001303</td>\n",
       "      <td>0.001312</td>\n",
       "      <td>0.001146</td>\n",
       "    </tr>\n",
       "    <tr>\n",
       "      <th>4</th>\n",
       "      <td>2500</td>\n",
       "      <td>0.001156</td>\n",
       "      <td>0.001674</td>\n",
       "      <td>0.001792</td>\n",
       "      <td>0.001971</td>\n",
       "    </tr>\n",
       "  </tbody>\n",
       "</table>\n",
       "</div>"
      ],
      "text/plain": [
       "   number of elements     time1     time2     time3     time4\n",
       "0                 500  0.000396  0.000363  0.000360  0.000454\n",
       "1                1000  0.000958  0.000926  0.000843  0.000683\n",
       "2                1500  0.000992  0.000939  0.000933  0.000951\n",
       "3                2000  0.001308  0.001303  0.001312  0.001146\n",
       "4                2500  0.001156  0.001674  0.001792  0.001971"
      ]
     },
     "execution_count": 27,
     "metadata": {},
     "output_type": "execute_result"
    }
   ],
   "source": [
    "non_opt=pd.read_csv(\"no_optimise.csv\")\n",
    "non_opt.head()"
   ]
  },
  {
   "cell_type": "code",
   "execution_count": 28,
   "metadata": {},
   "outputs": [],
   "source": [
    "non_opt[\"time_mid\"]=(non_opt[\"time1\"]+non_opt[\"time2\"]+non_opt[\"time3\"]+non_opt[\"time4\"])/4"
   ]
  },
  {
   "cell_type": "code",
   "execution_count": 33,
   "metadata": {},
   "outputs": [],
   "source": [
    "k,a=np.polyfit(non_opt[\"number of elements\"], non_opt[\"time_mid\"], 1)"
   ]
  },
  {
   "cell_type": "code",
   "execution_count": 34,
   "metadata": {},
   "outputs": [
    {
     "data": {
      "image/png": "[encoded data removed]",
      "text/plain": [
       "<Figure size 800x600 with 1 Axes>"
      ]
     },
     "metadata": {
      "needs_background": "light"
     },
     "output_type": "display_data"
    }
   ],
   "source": [
    "import matplotlib.pyplot as plt\n",
    "plt.figure(figsize=(8,6), dpi=100) # размер графика\n",
    "#plt.ylabel(\"$T$, с\") # подписи к осям\n",
    "#plt.xlabel(\"$a$, см\")\n",
    "#plt.xlim([0, 40])\n",
    "#plt.grid(True, linestyle=\"--\") # пунктирная сетка\n",
    "plt.scatter(non_opt[\"number of elements\"], non_opt[\"time_mid\"], s=1) # точки с погрешностями\n",
    "plt.plot(non_opt[\"number of elements\"], k*non_opt[\"number of elements\"]+a,) # интерполяция\n",
    "#plt.legend() # легенда\n",
    "plt.show()"
   ]
  },
  {
   "cell_type": "code",
   "execution_count": 30,
   "metadata": {},
   "outputs": [
    {
     "data": {
      "text/html": [
       "<div>\n",
       "<style scoped>\n",
       "    .dataframe tbody tr th:only-of-type {\n",
       "        vertical-align: middle;\n",
       "    }\n",
       "\n",
       "    .dataframe tbody tr th {\n",
       "        vertical-align: top;\n",
       "    }\n",
       "\n",
       "    .dataframe thead th {\n",
       "        text-align: right;\n",
       "    }\n",
       "</style>\n",
       "<table border=\"1\" class=\"dataframe\">\n",
       "  <thead>\n",
       "    <tr style=\"text-align: right;\">\n",
       "      <th></th>\n",
       "      <th>number of elements</th>\n",
       "      <th>time1</th>\n",
       "      <th>time2</th>\n",
       "      <th>time3</th>\n",
       "      <th>time4</th>\n",
       "      <th>time_mid</th>\n",
       "      <th>ln_num</th>\n",
       "    </tr>\n",
       "  </thead>\n",
       "  <tbody>\n",
       "    <tr>\n",
       "      <th>0</th>\n",
       "      <td>500</td>\n",
       "      <td>0.000396</td>\n",
       "      <td>0.000363</td>\n",
       "      <td>0.000360</td>\n",
       "      <td>0.000454</td>\n",
       "      <td>0.000393</td>\n",
       "      <td>3.107304e+03</td>\n",
       "    </tr>\n",
       "    <tr>\n",
       "      <th>1</th>\n",
       "      <td>1000</td>\n",
       "      <td>0.000958</td>\n",
       "      <td>0.000926</td>\n",
       "      <td>0.000843</td>\n",
       "      <td>0.000683</td>\n",
       "      <td>0.000853</td>\n",
       "      <td>6.907755e+03</td>\n",
       "    </tr>\n",
       "    <tr>\n",
       "      <th>2</th>\n",
       "      <td>1500</td>\n",
       "      <td>0.000992</td>\n",
       "      <td>0.000939</td>\n",
       "      <td>0.000933</td>\n",
       "      <td>0.000951</td>\n",
       "      <td>0.000954</td>\n",
       "      <td>1.096983e+04</td>\n",
       "    </tr>\n",
       "    <tr>\n",
       "      <th>3</th>\n",
       "      <td>2000</td>\n",
       "      <td>0.001308</td>\n",
       "      <td>0.001303</td>\n",
       "      <td>0.001312</td>\n",
       "      <td>0.001146</td>\n",
       "      <td>0.001267</td>\n",
       "      <td>1.520180e+04</td>\n",
       "    </tr>\n",
       "    <tr>\n",
       "      <th>4</th>\n",
       "      <td>2500</td>\n",
       "      <td>0.001156</td>\n",
       "      <td>0.001674</td>\n",
       "      <td>0.001792</td>\n",
       "      <td>0.001971</td>\n",
       "      <td>0.001648</td>\n",
       "      <td>1.956012e+04</td>\n",
       "    </tr>\n",
       "    <tr>\n",
       "      <th>...</th>\n",
       "      <td>...</td>\n",
       "      <td>...</td>\n",
       "      <td>...</td>\n",
       "      <td>...</td>\n",
       "      <td>...</td>\n",
       "      <td>...</td>\n",
       "      <td>...</td>\n",
       "    </tr>\n",
       "    <tr>\n",
       "      <th>195</th>\n",
       "      <td>98000</td>\n",
       "      <td>0.065413</td>\n",
       "      <td>0.064710</td>\n",
       "      <td>0.064849</td>\n",
       "      <td>0.066221</td>\n",
       "      <td>0.065298</td>\n",
       "      <td>1.126287e+06</td>\n",
       "    </tr>\n",
       "    <tr>\n",
       "      <th>196</th>\n",
       "      <td>98500</td>\n",
       "      <td>0.066434</td>\n",
       "      <td>0.064462</td>\n",
       "      <td>0.073977</td>\n",
       "      <td>0.069098</td>\n",
       "      <td>0.068493</td>\n",
       "      <td>1.132534e+06</td>\n",
       "    </tr>\n",
       "    <tr>\n",
       "      <th>197</th>\n",
       "      <td>99000</td>\n",
       "      <td>0.066137</td>\n",
       "      <td>0.064038</td>\n",
       "      <td>0.066700</td>\n",
       "      <td>0.069366</td>\n",
       "      <td>0.066560</td>\n",
       "      <td>1.138785e+06</td>\n",
       "    </tr>\n",
       "    <tr>\n",
       "      <th>198</th>\n",
       "      <td>99500</td>\n",
       "      <td>0.071020</td>\n",
       "      <td>0.069308</td>\n",
       "      <td>0.070335</td>\n",
       "      <td>0.066154</td>\n",
       "      <td>0.069204</td>\n",
       "      <td>1.145037e+06</td>\n",
       "    </tr>\n",
       "    <tr>\n",
       "      <th>199</th>\n",
       "      <td>100000</td>\n",
       "      <td>0.079191</td>\n",
       "      <td>0.069010</td>\n",
       "      <td>0.064360</td>\n",
       "      <td>0.064534</td>\n",
       "      <td>0.069274</td>\n",
       "      <td>1.151293e+06</td>\n",
       "    </tr>\n",
       "  </tbody>\n",
       "</table>\n",
       "<p>200 rows × 7 columns</p>\n",
       "</div>"
      ],
      "text/plain": [
       "     number of elements     time1     time2     time3     time4  time_mid  \\\n",
       "0                   500  0.000396  0.000363  0.000360  0.000454  0.000393   \n",
       "1                  1000  0.000958  0.000926  0.000843  0.000683  0.000853   \n",
       "2                  1500  0.000992  0.000939  0.000933  0.000951  0.000954   \n",
       "3                  2000  0.001308  0.001303  0.001312  0.001146  0.001267   \n",
       "4                  2500  0.001156  0.001674  0.001792  0.001971  0.001648   \n",
       "..                  ...       ...       ...       ...       ...       ...   \n",
       "195               98000  0.065413  0.064710  0.064849  0.066221  0.065298   \n",
       "196               98500  0.066434  0.064462  0.073977  0.069098  0.068493   \n",
       "197               99000  0.066137  0.064038  0.066700  0.069366  0.066560   \n",
       "198               99500  0.071020  0.069308  0.070335  0.066154  0.069204   \n",
       "199              100000  0.079191  0.069010  0.064360  0.064534  0.069274   \n",
       "\n",
       "           ln_num  \n",
       "0    3.107304e+03  \n",
       "1    6.907755e+03  \n",
       "2    1.096983e+04  \n",
       "3    1.520180e+04  \n",
       "4    1.956012e+04  \n",
       "..            ...  \n",
       "195  1.126287e+06  \n",
       "196  1.132534e+06  \n",
       "197  1.138785e+06  \n",
       "198  1.145037e+06  \n",
       "199  1.151293e+06  \n",
       "\n",
       "[200 rows x 7 columns]"
      ]
     },
     "execution_count": 30,
     "metadata": {},
     "output_type": "execute_result"
    }
   ],
   "source": [
    "non_opt[\"ln_num\"]=non_opt[\"number of elements\"]*np.log(non_opt[\"number of elements\"])\n",
    "non_opt"
   ]
  },
  {
   "cell_type": "code",
   "execution_count": 39,
   "metadata": {},
   "outputs": [],
   "source": [
    "k1,a1=np.polyfit(non_opt[\"ln_num\"], non_opt[\"time_mid\"], 1)"
   ]
  },
  {
   "cell_type": "code",
   "execution_count": 41,
   "metadata": {},
   "outputs": [
    {
     "data": {
      "image/png": "[encoded data removed]",
      "text/plain": [
       "<Figure size 800x600 with 1 Axes>"
      ]
     },
     "metadata": {
      "needs_background": "light"
     },
     "output_type": "display_data"
    }
   ],
   "source": [
    "plt.figure(figsize=(8,6), dpi=100) # размер графика\n",
    "plt.scatter(non_opt[\"ln_num\"], non_opt[\"time_mid\"], s=1) # точки с погрешностями\n",
    "plt.plot(non_opt[\"ln_num\"], k1*non_opt[\"ln_num\"]+a1)\n",
    "plt.show()"
   ]
  },
  {
   "attachments": {},
   "cell_type": "markdown",
   "metadata": {},
   "source": [
    "Optimised:"
   ]
  },
  {
   "cell_type": "code",
   "execution_count": 56,
   "metadata": {},
   "outputs": [
    {
     "data": {
      "text/html": [
       "<div>\n",
       "<style scoped>\n",
       "    .dataframe tbody tr th:only-of-type {\n",
       "        vertical-align: middle;\n",
       "    }\n",
       "\n",
       "    .dataframe tbody tr th {\n",
       "        vertical-align: top;\n",
       "    }\n",
       "\n",
       "    .dataframe thead th {\n",
       "        text-align: right;\n",
       "    }\n",
       "</style>\n",
       "<table border=\"1\" class=\"dataframe\">\n",
       "  <thead>\n",
       "    <tr style=\"text-align: right;\">\n",
       "      <th></th>\n",
       "      <th>number of elements</th>\n",
       "      <th>time1</th>\n",
       "      <th>time2</th>\n",
       "      <th>time3</th>\n",
       "      <th>time4</th>\n",
       "    </tr>\n",
       "  </thead>\n",
       "  <tbody>\n",
       "    <tr>\n",
       "      <th>0</th>\n",
       "      <td>500</td>\n",
       "      <td>0.000325</td>\n",
       "      <td>0.000237</td>\n",
       "      <td>0.000228</td>\n",
       "      <td>0.000228</td>\n",
       "    </tr>\n",
       "    <tr>\n",
       "      <th>1</th>\n",
       "      <td>1000</td>\n",
       "      <td>0.000513</td>\n",
       "      <td>0.000508</td>\n",
       "      <td>0.000441</td>\n",
       "      <td>0.000423</td>\n",
       "    </tr>\n",
       "    <tr>\n",
       "      <th>2</th>\n",
       "      <td>1500</td>\n",
       "      <td>0.000681</td>\n",
       "      <td>0.000549</td>\n",
       "      <td>0.000546</td>\n",
       "      <td>0.000545</td>\n",
       "    </tr>\n",
       "    <tr>\n",
       "      <th>3</th>\n",
       "      <td>2000</td>\n",
       "      <td>0.000750</td>\n",
       "      <td>0.000750</td>\n",
       "      <td>0.000750</td>\n",
       "      <td>0.000747</td>\n",
       "    </tr>\n",
       "    <tr>\n",
       "      <th>4</th>\n",
       "      <td>2500</td>\n",
       "      <td>0.000957</td>\n",
       "      <td>0.000956</td>\n",
       "      <td>0.000954</td>\n",
       "      <td>0.000955</td>\n",
       "    </tr>\n",
       "    <tr>\n",
       "      <th>...</th>\n",
       "      <td>...</td>\n",
       "      <td>...</td>\n",
       "      <td>...</td>\n",
       "      <td>...</td>\n",
       "      <td>...</td>\n",
       "    </tr>\n",
       "    <tr>\n",
       "      <th>195</th>\n",
       "      <td>98000</td>\n",
       "      <td>0.061579</td>\n",
       "      <td>0.061672</td>\n",
       "      <td>0.061428</td>\n",
       "      <td>0.061435</td>\n",
       "    </tr>\n",
       "    <tr>\n",
       "      <th>196</th>\n",
       "      <td>98500</td>\n",
       "      <td>0.061929</td>\n",
       "      <td>0.062078</td>\n",
       "      <td>0.059097</td>\n",
       "      <td>0.070155</td>\n",
       "    </tr>\n",
       "    <tr>\n",
       "      <th>197</th>\n",
       "      <td>99000</td>\n",
       "      <td>0.058037</td>\n",
       "      <td>0.062479</td>\n",
       "      <td>0.062464</td>\n",
       "      <td>0.059357</td>\n",
       "    </tr>\n",
       "    <tr>\n",
       "      <th>198</th>\n",
       "      <td>99500</td>\n",
       "      <td>0.062284</td>\n",
       "      <td>0.063691</td>\n",
       "      <td>0.057609</td>\n",
       "      <td>0.061554</td>\n",
       "    </tr>\n",
       "    <tr>\n",
       "      <th>199</th>\n",
       "      <td>100000</td>\n",
       "      <td>0.062762</td>\n",
       "      <td>0.064453</td>\n",
       "      <td>0.058206</td>\n",
       "      <td>0.060268</td>\n",
       "    </tr>\n",
       "  </tbody>\n",
       "</table>\n",
       "<p>200 rows × 5 columns</p>\n",
       "</div>"
      ],
      "text/plain": [
       "     number of elements     time1     time2     time3     time4\n",
       "0                   500  0.000325  0.000237  0.000228  0.000228\n",
       "1                  1000  0.000513  0.000508  0.000441  0.000423\n",
       "2                  1500  0.000681  0.000549  0.000546  0.000545\n",
       "3                  2000  0.000750  0.000750  0.000750  0.000747\n",
       "4                  2500  0.000957  0.000956  0.000954  0.000955\n",
       "..                  ...       ...       ...       ...       ...\n",
       "195               98000  0.061579  0.061672  0.061428  0.061435\n",
       "196               98500  0.061929  0.062078  0.059097  0.070155\n",
       "197               99000  0.058037  0.062479  0.062464  0.059357\n",
       "198               99500  0.062284  0.063691  0.057609  0.061554\n",
       "199              100000  0.062762  0.064453  0.058206  0.060268\n",
       "\n",
       "[200 rows x 5 columns]"
      ]
     },
     "execution_count": 56,
     "metadata": {},
     "output_type": "execute_result"
    }
   ],
   "source": [
    "opt=pd.read_csv(\"optimised.csv\")\n",
    "opt"
   ]
  },
  {
   "cell_type": "code",
   "execution_count": 57,
   "metadata": {},
   "outputs": [],
   "source": [
    "opt[\"time_mid\"]=(opt[\"time1\"]+opt[\"time2\"]+opt[\"time3\"]+opt[\"time4\"])/4"
   ]
  },
  {
   "cell_type": "code",
   "execution_count": 58,
   "metadata": {},
   "outputs": [
    {
     "data": {
      "text/html": [
       "<div>\n",
       "<style scoped>\n",
       "    .dataframe tbody tr th:only-of-type {\n",
       "        vertical-align: middle;\n",
       "    }\n",
       "\n",
       "    .dataframe tbody tr th {\n",
       "        vertical-align: top;\n",
       "    }\n",
       "\n",
       "    .dataframe thead th {\n",
       "        text-align: right;\n",
       "    }\n",
       "</style>\n",
       "<table border=\"1\" class=\"dataframe\">\n",
       "  <thead>\n",
       "    <tr style=\"text-align: right;\">\n",
       "      <th></th>\n",
       "      <th>number of elements</th>\n",
       "      <th>time1</th>\n",
       "      <th>time2</th>\n",
       "      <th>time3</th>\n",
       "      <th>time4</th>\n",
       "      <th>time_mid</th>\n",
       "    </tr>\n",
       "  </thead>\n",
       "  <tbody>\n",
       "    <tr>\n",
       "      <th>19</th>\n",
       "      <td>10000</td>\n",
       "      <td>0.006468</td>\n",
       "      <td>0.004773</td>\n",
       "      <td>0.004532</td>\n",
       "      <td>0.006709</td>\n",
       "      <td>0.00562</td>\n",
       "    </tr>\n",
       "  </tbody>\n",
       "</table>\n",
       "</div>"
      ],
      "text/plain": [
       "    number of elements     time1     time2     time3     time4  time_mid\n",
       "19               10000  0.006468  0.004773  0.004532  0.006709   0.00562"
      ]
     },
     "execution_count": 58,
     "metadata": {},
     "output_type": "execute_result"
    }
   ],
   "source": [
    "opt[opt[\"number of elements\"]==10000]"
   ]
  },
  {
   "cell_type": "code",
   "execution_count": 59,
   "metadata": {},
   "outputs": [
    {
     "data": {
      "text/html": [
       "<div>\n",
       "<style scoped>\n",
       "    .dataframe tbody tr th:only-of-type {\n",
       "        vertical-align: middle;\n",
       "    }\n",
       "\n",
       "    .dataframe tbody tr th {\n",
       "        vertical-align: top;\n",
       "    }\n",
       "\n",
       "    .dataframe thead th {\n",
       "        text-align: right;\n",
       "    }\n",
       "</style>\n",
       "<table border=\"1\" class=\"dataframe\">\n",
       "  <thead>\n",
       "    <tr style=\"text-align: right;\">\n",
       "      <th></th>\n",
       "      <th>number of elements</th>\n",
       "      <th>time1</th>\n",
       "      <th>time2</th>\n",
       "      <th>time3</th>\n",
       "      <th>time4</th>\n",
       "      <th>time_mid</th>\n",
       "      <th>ln_num</th>\n",
       "    </tr>\n",
       "  </thead>\n",
       "  <tbody>\n",
       "    <tr>\n",
       "      <th>19</th>\n",
       "      <td>10000</td>\n",
       "      <td>0.005424</td>\n",
       "      <td>0.005398</td>\n",
       "      <td>0.006117</td>\n",
       "      <td>0.007396</td>\n",
       "      <td>0.006084</td>\n",
       "      <td>92103.40372</td>\n",
       "    </tr>\n",
       "  </tbody>\n",
       "</table>\n",
       "</div>"
      ],
      "text/plain": [
       "    number of elements     time1     time2     time3     time4  time_mid  \\\n",
       "19               10000  0.005424  0.005398  0.006117  0.007396  0.006084   \n",
       "\n",
       "         ln_num  \n",
       "19  92103.40372  "
      ]
     },
     "execution_count": 59,
     "metadata": {},
     "output_type": "execute_result"
    }
   ],
   "source": [
    "non_opt[non_opt[\"number of elements\"]==10000]"
   ]
  },
  {
   "cell_type": "code",
   "execution_count": 60,
   "metadata": {},
   "outputs": [],
   "source": [
    "opt[\"ln_num\"]=opt[\"number of elements\"]*np.log(opt[\"number of elements\"])"
   ]
  },
  {
   "cell_type": "code",
   "execution_count": 61,
   "metadata": {},
   "outputs": [],
   "source": [
    "k2,a2=np.polyfit(opt[\"ln_num\"], opt[\"time_mid\"], 1)"
   ]
  },
  {
   "cell_type": "code",
   "execution_count": 62,
   "metadata": {},
   "outputs": [
    {
     "data": {
      "image/png": "[encoded data removed]",
      "text/plain": [
       "<Figure size 800x600 with 1 Axes>"
      ]
     },
     "metadata": {
      "needs_background": "light"
     },
     "output_type": "display_data"
    }
   ],
   "source": [
    "plt.figure(figsize=(8,6), dpi=100) # размер графика\n",
    "plt.scatter(non_opt[\"ln_num\"], non_opt[\"time_mid\"], s=1,label=\"non optimised\") # точки с погрешностями\n",
    "plt.plot(non_opt[\"ln_num\"], k1*non_opt[\"ln_num\"]+a1,label=\"non optimised\")\n",
    "plt.scatter(opt[\"ln_num\"], opt[\"time_mid\"], s=1, label=\"optimised\") # точки с погрешностями\n",
    "plt.plot(opt[\"ln_num\"], k2*opt[\"ln_num\"]+a2, label=\"optimised\")\n",
    "plt.legend()\n",
    "plt.show()"
   ]
  },
  {
   "cell_type": "code",
   "execution_count": null,
   "metadata": {},
   "outputs": [],
   "source": []
  }
 ],
 "metadata": {
  "kernelspec": {
   "display_name": "base",
   "language": "python",
   "name": "python3"
  },
  "language_info": {
   "codemirror_mode": {
    "name": "ipython",
    "version": 3
   },
   "file_extension": ".py",
   "mimetype": "text/x-python",
   "name": "python",
   "nbconvert_exporter": "python",
   "pygments_lexer": "ipython3",
   "version": "3.9.12"
  },
  "orig_nbformat": 4,
  "vscode": {
   "interpreter": {
    "hash": "654ad4e90f846acdad6447fb4ff57b79f3ea6eab40f15a3c5edbe4ce52626545"
   }
  }
 },
 "nbformat": 4,
 "nbformat_minor": 2
}
